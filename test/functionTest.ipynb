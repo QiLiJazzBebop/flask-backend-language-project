{
 "cells": [
  {
   "cell_type": "code",
   "execution_count": 2,
   "metadata": {
    "pycharm": {
     "is_executing": true,
     "name": "#%%\n"
    }
   },
   "outputs": [],
   "source": [
    "from jisho_api.word import Word\n",
    "r = Word.request('waste')\n",
    "\n",
    "# got the word written in jap\n",
    "r.data[0].dict()['slug']\n",
    "\n",
    "# store in list\n",
    "wordList = []\n",
    "for word in r.data:\n",
    "    wordD = word.dict()\n",
    "    wordExtract = wordD['slug']\n",
    "    wordList.append(wordExtract)\n"
   ]
  },
  {
   "cell_type": "code",
   "execution_count": 3,
   "metadata": {
    "pycharm": {
     "name": "#%%\n"
    }
   },
   "outputs": [],
   "source": [
    "import requests\n",
    "\n",
    "# create search api\n",
    "def generateSearchURL(lang, wordGet):\n",
    "    forwardURL = \"https://smallworldofwords.org/search/\" + lang + \"/networkGraph/forward/\" + wordGet + \"/searchBox\"\n",
    "    return forwardURL\n",
    "\n",
    "wordRequestUrls = []\n",
    "for word in wordList:\n",
    "    urlGenerate = generateSearchURL(\"jp\", word)\n",
    "    wordRequestUrls.append(urlGenerate)\n"
   ]
  },
  {
   "cell_type": "code",
   "execution_count": 4,
   "metadata": {
    "pycharm": {
     "name": "#%%\n"
    }
   },
   "outputs": [],
   "source": [
    "from threading import Thread\n",
    "\n",
    "from requests import get, post, put, patch, delete, options, head\n",
    "\n",
    "\n",
    "\n",
    "request_methods = {\n",
    "    'get': get,\n",
    "    'post': post,\n",
    "    'put': put,\n",
    "    'patch': patch,\n",
    "    'delete': delete,\n",
    "    'options': options,\n",
    "    'head': head,\n",
    "}\n",
    "\n",
    "\n",
    "def async_request(method, *args, callback=None, timeout=15, **kwargs):\n",
    "    \"\"\"Makes request on a different thread, and optionally passes response to a\n",
    "    `callback` function when request returns.\n",
    "    \"\"\"\n",
    "    method = request_methods[method.lower()]\n",
    "    if callback:\n",
    "        def callback_with_args(response, *args, **kwargs):\n",
    "            callback(response)\n",
    "        kwargs['hooks'] = {'response': callback_with_args}\n",
    "    kwargs['timeout'] = timeout\n",
    "    thread = Thread(target=method, args=args, kwargs=kwargs)\n",
    "    thread.start()\n",
    "    return thread"
   ]
  },
  {
   "cell_type": "code",
   "execution_count": 85,
   "metadata": {
    "pycharm": {
     "name": "#%%\n"
    }
   },
   "outputs": [],
   "source": [
    "def bilingualConvertCall(lang, wordGet):\n",
    "    # got the word written in jap\n",
    "    r = Word.request(wordGet)\n",
    "    # extract the words from request response\n",
    "    wordList = []\n",
    "    for word in r.data:\n",
    "        wordD = word.dict()\n",
    "        wordExtract = wordD['slug']\n",
    "        wordList.append(wordExtract)\n",
    "    \n",
    "    # generate the response url\n",
    "    wordRequestUrls = []\n",
    "    for word in wordList:\n",
    "        urlGenerate = generateSearchURL(lang, wordGet)\n",
    "        wordRequestUrls.append(urlGenerate)\n",
    "    # multithread request\n",
    "    threads = []\n",
    "    resJsonResponse = []\n",
    "    for url in wordRequestUrls:\n",
    "        threadGet = async_request('get', url, callback=lambda r: resJsonResponse.append(r.json()))\n",
    "        threads.append(threadGet)\n",
    "    # join result\n",
    "    for threadGet in threads:\n",
    "        threadGet.join()\n",
    "    return r, resJsonResponse\n",
    "\n",
    "def bilingualConvertCombine(lang, wordGet):\n",
    "    r, resJsonResponse = bilingualConvertCall(lang, wordGet)\n",
    "    jsonList = []\n",
    "    for i in range(len(resJsonResponse)):\n",
    "        body = r.data[i].dict()\n",
    "        body['nodes'] = resJsonResponse[i]['nodes']\n",
    "        jsonList.append(jsonify(body))\n",
    "    return jsonList"
   ]
  },
  {
   "cell_type": "code",
   "execution_count": 87,
   "metadata": {
    "pycharm": {
     "name": "#%%\n"
    }
   },
   "outputs": [],
   "source": [
    "j = bilingualConvertCall(\"en\", \"cover\")"
   ]
  },
  {
   "cell_type": "code",
   "execution_count": null,
   "outputs": [],
   "source": [
    "from jisho_api.word import Word\n",
    "\n",
    "r = Word.request(\"持つ\")\n",
    "wordList = []\n",
    "for word in r.data:\n",
    "    wordD = word.dict()\n",
    "    wordExtract = wordD['slug']\n",
    "    wordList.append(wordExtract)\n",
    "wordList\n",
    "        "
   ],
   "metadata": {
    "collapsed": false,
    "pycharm": {
     "name": "#%%\n"
    }
   }
  },
  {
   "cell_type": "code",
   "execution_count": 110,
   "outputs": [],
   "source": [
    "from jisho_api.kanji import Kanji\n",
    "r = Kanji.request('得る')\n"
   ],
   "metadata": {
    "collapsed": false,
    "pycharm": {
     "name": "#%%\n"
    }
   }
  },
  {
   "cell_type": "code",
   "execution_count": 111,
   "outputs": [
    {
     "data": {
      "text/plain": "['gain',\n 'get',\n 'find',\n 'earn',\n 'acquire',\n 'can',\n 'may',\n 'able to',\n 'profit',\n 'advantage',\n 'benefit']"
     },
     "execution_count": 111,
     "metadata": {},
     "output_type": "execute_result"
    }
   ],
   "source": [
    "r.data.dict()['main_meanings']"
   ],
   "metadata": {
    "collapsed": false,
    "pycharm": {
     "name": "#%%\n"
    }
   }
  },
  {
   "cell_type": "code",
   "execution_count": 101,
   "metadata": {
    "pycharm": {
     "name": "#%%\n"
    }
   },
   "outputs": [],
   "source": [
    "from jisho_api.kanji import Kanji\n",
    "r = Kanji.request('水')\n"
   ]
  },
  {
   "cell_type": "code",
   "execution_count": 99,
   "metadata": {
    "pycharm": {
     "name": "#%%\n"
    }
   },
   "outputs": [
    {
     "data": {
      "text/plain": [
       "KanjiConfig(kanji='水', strokes=4, main_meanings=['water'], main_readings=MainReadings(kun=['みず', 'みず-'], on=['スイ']), meta=KanjiMeta(education=KanjiMetaEducation(grade=None, jlpt=None, newspaper_rank=None), dictionary_idxs={'14': 'A Guide To Reading and Writing Japanese (Florence Sakade)', '16': 'Essential Kanji (P.G. O’Neill)', '40': 'A Guide To Remembering Japanese Characters (Kenneth G. Henshall)', '144': 'A New Dictionary of Kanji Usage', '2482': 'Classic Nelson (Andrew Nelson)', '68': 'Japanese Kanji Flashcards (Max Hodges and Tomoko Okazaki)', '54': 'Japanese Names (P.G. O’Neill)', '1.A': 'Japanese for Busy People', '21': 'Kanji and Kana, 2nd Edition (Spahn and Hadamitzky)', '19': 'Kanji in Context (Nishiguchi and Kono)', '1151': 'Kodansha Compact Kanji Guide', '10': 'New Japanese English Character Dictionary (Jack Halpern)', '3': 'Kodansha Kanji Learner’s Dictionary, 2nd Edition (Jack Halpern)', '132': 'Les Kanjis dans la tete (Yves Maniette)', '17083': 'Morohashi', '3030': 'New Nelson (John Haig)', '130': 'Remembering The Kanji (James Heisig)', '137': 'Remembering The Kanji, 6th edition (James Heisig)', '166': 'The Kanji Way to Japanese Language Power (Dale Crowley)', '31': 'Tuttle Kanji Cards (Alexander Kask)'}, classifications={'1142': '2001 Kanji', '3a0.1': 'The Kanji Dictionary', '1-1-3': 'SKIP code', '4-4-3': 'SKIP code', '1223.0': 'Four corner code'}, codepoints={'1-31-69': 'JIS X 0208-1997 kuten code', '6c34': 'Unicode hex code'}, readings=KanjiMetaReadings(japanese=['うず、 ずみ、 つ、 ど、 み、 みさ、 みつ、 みな、 みん'], chinese=['shui3'], korean=['su'])), radical=KanjiRadical(alt_forms=['氵', '氺'], meaning='water', parts=['水'], basis='水', kangxi_order=85, variants=None), reading_examples=ReadingExamples(kun=[Example(kanji='水', reading='みず', meanings=['water (esp. cool', 'fresh water', 'e.g. drinking water)', 'fluid (esp. in an animal tissue)', 'liquid', 'flood', 'floodwaters', 'water offered to wrestlers just prior to a bout', 'break granted to wrestlers engaged in a prolonged bout']), Example(kanji='水揚げ', reading='みずあげ', meanings=['landing', 'unloading (e.g. a ship)', 'catch (of fish)', 'takings', 'sales (of a shop)', 'defloration (e.g. of a geisha)', 'preservation (of cut flowers', 'in ikebana)']), Example(kanji='飲み水', reading='のみみず', meanings=['drinking water', 'potable water']), Example(kanji='呼び水', reading='よびみず', meanings=['pump-priming', 'rousing', 'stimulation'])], on=[Example(kanji='水', reading='スイ', meanings=['Wednesday', 'shaved ice (served with flavored syrup)', 'water (fifth of the five elements)']), Example(kanji='水位', reading='スイイ', meanings=['water level']), Example(kanji='用水', reading='ヨウスイ', meanings=['irrigation water', 'water for fire', 'city water', 'cistern water']), Example(kanji='浄水', reading='ジョウスイ', meanings=['clean water', 'purified water'])]))"
      ]
     },
     "execution_count": 99,
     "metadata": {},
     "output_type": "execute_result"
    }
   ],
   "source": [
    "r.data"
   ]
  },
  {
   "cell_type": "code",
   "execution_count": null,
   "metadata": {
    "pycharm": {
     "name": "#%%\n"
    }
   },
   "outputs": [],
   "source": []
  }
 ],
 "metadata": {
  "kernelspec": {
   "display_name": "Python 3 (ipykernel)",
   "language": "python",
   "name": "python3"
  },
  "language_info": {
   "codemirror_mode": {
    "name": "ipython",
    "version": 3
   },
   "file_extension": ".py",
   "mimetype": "text/x-python",
   "name": "python",
   "nbconvert_exporter": "python",
   "pygments_lexer": "ipython3",
   "version": "3.9.12"
  }
 },
 "nbformat": 4,
 "nbformat_minor": 1
}